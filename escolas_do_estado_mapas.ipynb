{
  "nbformat": 4,
  "nbformat_minor": 0,
  "metadata": {
    "colab": {
      "provenance": [],
      "toc_visible": true,
      "authorship_tag": "ABX9TyMXN/sdxlHYTR1HG619CifU",
      "include_colab_link": true
    },
    "kernelspec": {
      "name": "python3",
      "display_name": "Python 3"
    },
    "language_info": {
      "name": "python"
    }
  },
  "cells": [
    {
      "cell_type": "markdown",
      "metadata": {
        "id": "view-in-github",
        "colab_type": "text"
      },
      "source": [
        "<a href=\"https://colab.research.google.com/github/TiaErikaDev/localizador_escolas/blob/main/escolas_do_estado_mapas.ipynb\" target=\"_parent\"><img src=\"https://colab.research.google.com/assets/colab-badge.svg\" alt=\"Open In Colab\"/></a>"
      ]
    },
    {
      "cell_type": "code",
      "source": [
        "!pip install wget\n",
        "!pip install geopy\n",
        "!pip install folium\n"
      ],
      "metadata": {
        "id": "q4mQZdi5xmMF"
      },
      "execution_count": null,
      "outputs": []
    },
    {
      "cell_type": "code",
      "source": [
        "from bs4 import BeautifulSoup\n",
        "import re\n",
        "from geopy.geocoders import Nominatim\n",
        "import folium\n"
      ],
      "metadata": {
        "id": "nIJLNZVXyDr9"
      },
      "execution_count": 2,
      "outputs": []
    },
    {
      "cell_type": "markdown",
      "source": [
        "### Entre com o link:"
      ],
      "metadata": {
        "id": "E4NHa9GLGkos"
      }
    },
    {
      "cell_type": "code",
      "source": [
        "!wget --verbose --show-progress --no-check-certificate https://drive.google.com/drive/folders/1X5ij7FXCY0HPIjqgyL0jjY5gz-Dydk4INHIamLxw7ZZa84GzhMNlzvJyq5G0r_O20tmzlYd_"
      ],
      "metadata": {
        "colab": {
          "base_uri": "https://localhost:8080/"
        },
        "id": "MRndQNYSyApm",
        "outputId": "1711fb0c-f233-4419-f5b1-af96b770de3f"
      },
      "execution_count": 19,
      "outputs": [
        {
          "output_type": "stream",
          "name": "stdout",
          "text": [
            "--2024-01-09 02:16:17--  https://drive.google.com/drive/folders/1X5ij7FXCY0HPIjqgyL0jjY5gz-Dydk4INHIamLxw7ZZa84GzhMNlzvJyq5G0r_O20tmzlYd_\n",
            "Resolving drive.google.com (drive.google.com)... 173.194.213.113, 173.194.213.102, 173.194.213.101, ...\n",
            "Connecting to drive.google.com (drive.google.com)|173.194.213.113|:443... connected.\n",
            "HTTP request sent, awaiting response... 200 OK\n",
            "Length: unspecified [text/html]\n",
            "Saving to: ‘1X5ij7FXCY0HPIjqgyL0jjY5gz-Dydk4INHIamLxw7ZZa84GzhMNlzvJyq5G0r_O20tmzlYd_.2’\n",
            "\n",
            "1X5ij7FXCY0HPIjqgyL     [  <=>               ] 547.39K  1.39MB/s    in 0.4s    \n",
            "\n",
            "2024-01-09 02:16:18 (1.39 MB/s) - ‘1X5ij7FXCY0HPIjqgyL0jjY5gz-Dydk4INHIamLxw7ZZa84GzhMNlzvJyq5G0r_O20tmzlYd_.2’ saved [560532]\n",
            "\n"
          ]
        }
      ]
    },
    {
      "cell_type": "markdown",
      "source": [
        "### Leitura do link"
      ],
      "metadata": {
        "id": "5FzdIBw4G0Tg"
      }
    },
    {
      "cell_type": "code",
      "source": [
        "# Abrindo o arquivo e lendo o conteúdo\n",
        "with open('/content/1X5ij7FXCY0HPIjqgyL0jjY5gz-Dydk4INHIamLxw7ZZa84GzhMNlzvJyq5G0r_O20tmzlYd_', 'r') as file:\n",
        "    html_doc = file.read()\n",
        "\n",
        "soup = BeautifulSoup(html_doc, 'html.parser')\n",
        "\n",
        "\n",
        "resultado = soup.get_text()\n",
        "resultado"
      ],
      "metadata": {
        "colab": {
          "base_uri": "https://localhost:8080/",
          "height": 122
        },
        "id": "o8_Dqih6_1R0",
        "outputId": "bfc72c38-9104-4628-8c98-0ad71a3cbd19"
      },
      "execution_count": 4,
      "outputs": [
        {
          "output_type": "execute_result",
          "data": {
            "text/plain": [
              "'SEFOR03 - Google DriveJavaScript must be enabled to use Google DriveLearn moreSkip to main contentKeyboard shortcutsAccessibility feedbackDriveSign inDriveNameOwnerLast modifiedFile size More sorting optionsFilesSEFOR 03_EEEP DARCY RIBEIRO_23246812_PORTARIA 01 - Bruno Eron.pdfOwner hiddenJan 5, 20241.7 MBMore info (Alt + →)SEFOR 03_EEEP LEONEL DE MOURA BRIZOLA_23252588_PORTARIA 01 - Bruno Eron.pdfOwner hidden8:50\\u202fAM1.7 MBMore info (Alt + →)SEFOR 03_EEEP PROFESSOR CESAR CAMPELO_23049060_PORTARIA 01 - Bruno Eron.pdfOwner hiddenJan 5, 2024435 KBMore info (Alt + →)SEFOR 03_EEEP PROFESSOR ONELIO PORTO_23069074_PORTARIA 01 - Bruno Eron.pdfOwner hiddenJan 5, 2024163 KBMore info (Alt + →)SEFOR 03_EEEP PROFESSOR ONELIO PORTO_23069074_PORTARIA 02 - Bruno Eron.pdfOwner hidden11:30\\u202fAM131 KBMore info (Alt + →)SEFOR 03_EEFM ANISIO TEIXEIRA_23065214_PORTARIA 01 - Bruno Eron.pdfOwner hidden11:20\\u202fAM271 KBMore info (Alt + →)SEFOR 03_EEFM DOUTOR UBIRAJARA INDIO DO CEARA_23078170_PORTARIA 01 - Bruno Eron.pdfOwner hidden8:00\\u202fAM1.8 MBMore info (Alt + →)SEFOR 03_EEFM MICHELSON NOBRE DA SILVA_23233893_PORTARIA 01 - Bruno Eron.pdfOwner hidden1:42\\u202fPM147 KBMore info (Alt + →)SEFOR 03_EEFM PAULO ELPIDIO_23234296_PORTARIA 01 - Bruno Eron.pdfOwner hidden1:28\\u202fPM2.3 MBMore info (Alt + →)SEFOR 03_EEFM PROFESSORA ADALGISA BONFIM SOARES_23064676_PORTARIA 01 - Bruno Eron.pdfOwner hidden8:18\\u202fAM268 KBMore info (Alt + →)SEFOR 03_EEFM SANTO AMARO_23225360_PORTARIA 01 - Bruno Eron.pdfOwner hidden9:43\\u202fAM545 KBMore info (Alt + →)SEFOR 03_EEFM SANTO AMARO_23225360_PORTARIA 02 - Bruno Eron.pdfOwner hidden9:44\\u202fAM246 KBMore info (Alt + →)SEFOR 03_EEM DEPUTADO JOACI PEREIRA_23069490_PORTARIA 01 - Bruno Eron.pdfOwner hidden1:35\\u202fPM151 KBMore info (Alt + →)SEFOR 03_EEM PROFESSOR JADER MOREIRA DE CARVALHO_23071460_PORTARIA 01 - Bruno Eron.pdfOwner hidden11:48\\u202fAM2.2 MBMore info (Alt + →)SEFOR 03_EEMTI CAIC MARIA ALVES CARIOCA_231288154_PORTARIA 01 - Bruno Eron.pdfOwner hidden11:15\\u202fAM1.7 MBMore info (Alt + →)SEFOR 03_EEMTI ESTADO DO AMAZONAS_23069511_PORTARIA 01 - Bruno Eron.pdfOwner hidden6:51\\u202fAM1,019 KBMore info (Alt + →)SEFOR 03_EEMTI IRMAO URBANO GONZALEZ RODRIGUEZ_23186518_PORTARIA 01 - Bruno Eron.pdfOwner hidden9:39\\u202fAM2 MBMore info (Alt + →)SEFOR 03_EEMTI JENNY GOMES_23071591_PORTARIA 01 - Bruno Eron.pdfOwner hiddenJan 5, 20241.5 MBMore info (Alt + →)SEFOR 03_EEMTI LICEU PROFESSOR DOMINGOS BRASILEIRO_23272058_PORTARIA 01 - Bruno Eron.pdfOwner hidden12:12\\u202fPM266 KBMore info (Alt + →)SEFOR 03_EEMTI MARIA THOMASIA_23078669_PORTARIA 01 - Bruno Eron.pdfOwner hiddenJan 5, 2024127 KBMore info (Alt + →)SEFOR 03_EEMTI MARIA THOMASIA_23078669_PORTARIA 02 - Bruno Eron.pdfOwner hiddenJan 5, 2024110 KBMore info (Alt + →)SEFOR 03_EEMTI PRESIDENTE HUMBERTO DE ALENCAR CASTELO BRANCO_23071087_PORTARIA 01 - Bruno Eron.pdfOwner hidden11:37\\u202fAM3.3 MBMore info (Alt + →)SEFOR 03_EEMTI PROFESSOR CORONEL JOSE AURELIO CAMARA_23072199_PORTARIA 1 - Bruno Eron.pdfOwner hiddenJan 5, 2024847 KBMore info (Alt + →)SEFOR 03_EEMTI PROFESSOR CORONEL JOSE AURELIO CAMARA_23072199_PORTARIA 01 - Bruno Eron.pdfOwner hiddenJan 5, 2024919 KBMore info (Alt + →)SEFOR 03_EEMTI PROFESSOR JOSE MARIA CAMPOS DE OLIVEIRA_23072431_PORTARIA 01 - Bruno Eron.pdfOwner hiddenJan 5, 2024212 KBMore info (Alt + →)SEFOR 03_EEMTI PROFESSORA MARIA MARGARIDA DE CASTRO ALMEIDA_23073713_PORTARIA 01 - Bruno Eron.pdfOwner hiddenJan 5, 2024206 KBMore info (Alt + →)SEFOR 03_EEMTI SAO JOAO PIAMARTA_23259639_PORTARIA 01 - Bruno Eron.pdfOwner hiddenJan 5, 2024628 KBMore info (Alt + →)SEFOR 03_EEMTI SENADOR FERNANDES TAVORA_23069627_PORTARIA 01 - Bruno Eron.pdfOwner hiddenJan 5, 2024222 KBMore info (Alt + →)SEFOR 03_EEMTI SENADOR OSIRES PONTES_23069163_PORTARIA 01 - Bruno Eron.pdfOwner hidden11:26\\u202fAM880 KBMore info (Alt + →)SEFOR 03_EEMTI SENADOR OSIRES PONTES_23069163_PORTARIA 02 - Bruno Eron.pdfOwner hidden12:39\\u202fPM515 KBMore info (Alt + →)SEFOR 03_ERRATA_EEM PROFESSOR JADER MOREIRA DE CARVALHO_23071460_ERRATA PORTARIA 01 - Bruno Eron.pdfOwner hidden1:38\\u202fPM506 KBMore info (Alt + →)SEFOR 03_ERRATA_EEMTI SENADOR FERNANDES TAVORA_23069627_ERRATA PORTARIA 01 - Bruno Eron.pdfOwner hidden9:20\\u202fAM227 KBMore info (Alt + →)No files in this folder.Sign in to add files to this folderGoogle appsMain menu'"
            ],
            "application/vnd.google.colaboratory.intrinsic+json": {
              "type": "string"
            }
          },
          "metadata": {},
          "execution_count": 4
        }
      ]
    },
    {
      "cell_type": "markdown",
      "source": [
        "### Lista das escolas"
      ],
      "metadata": {
        "id": "JjTU3B9fHDba"
      }
    },
    {
      "cell_type": "code",
      "source": [
        "# Expressão regular para buscar o padrão \"SEFOR 01_\" seguido de caracteres até o próximo underline \"_\"\n",
        "padrao = re.compile(r\"SEFOR 03_[^_]+\")\n",
        "\n",
        "# Encontrar todas as correspondências no texto\n",
        "correspondencias = [correspondencia.split('_')[1] for correspondencia in padrao.findall(resultado)]\n",
        "\n",
        "# Exibir os resultados\n",
        "lista_escolas = []\n",
        "for correspondencia in correspondencias:\n",
        "    lista_escolas.append(correspondencia)\n",
        "\n",
        "print(lista_escolas)"
      ],
      "metadata": {
        "colab": {
          "base_uri": "https://localhost:8080/"
        },
        "id": "5C0MKuLqGStZ",
        "outputId": "2d44a4fb-8b6d-4873-d79b-dc7111327834"
      },
      "execution_count": 5,
      "outputs": [
        {
          "output_type": "stream",
          "name": "stdout",
          "text": [
            "['EEEP DARCY RIBEIRO', 'EEEP LEONEL DE MOURA BRIZOLA', 'EEEP PROFESSOR CESAR CAMPELO', 'EEEP PROFESSOR ONELIO PORTO', 'EEEP PROFESSOR ONELIO PORTO', 'EEFM ANISIO TEIXEIRA', 'EEFM DOUTOR UBIRAJARA INDIO DO CEARA', 'EEFM MICHELSON NOBRE DA SILVA', 'EEFM PAULO ELPIDIO', 'EEFM PROFESSORA ADALGISA BONFIM SOARES', 'EEFM SANTO AMARO', 'EEFM SANTO AMARO', 'EEM DEPUTADO JOACI PEREIRA', 'EEM PROFESSOR JADER MOREIRA DE CARVALHO', 'EEMTI CAIC MARIA ALVES CARIOCA', 'EEMTI ESTADO DO AMAZONAS', 'EEMTI IRMAO URBANO GONZALEZ RODRIGUEZ', 'EEMTI JENNY GOMES', 'EEMTI LICEU PROFESSOR DOMINGOS BRASILEIRO', 'EEMTI MARIA THOMASIA', 'EEMTI MARIA THOMASIA', 'EEMTI PRESIDENTE HUMBERTO DE ALENCAR CASTELO BRANCO', 'EEMTI PROFESSOR CORONEL JOSE AURELIO CAMARA', 'EEMTI PROFESSOR CORONEL JOSE AURELIO CAMARA', 'EEMTI PROFESSOR JOSE MARIA CAMPOS DE OLIVEIRA', 'EEMTI PROFESSORA MARIA MARGARIDA DE CASTRO ALMEIDA', 'EEMTI SAO JOAO PIAMARTA', 'EEMTI SENADOR FERNANDES TAVORA', 'EEMTI SENADOR OSIRES PONTES', 'EEMTI SENADOR OSIRES PONTES', 'ERRATA', 'ERRATA']\n"
          ]
        }
      ]
    },
    {
      "cell_type": "code",
      "source": [
        "\n",
        "# Lista de nomes das escolas\n",
        "lista_escolas\n",
        "\n",
        "# Cidade onde as escolas estão localizadas\n",
        "cidade = \"Fortaleza\"  # Substitua pela cidade correta\n",
        "estado = \"Ceará\"\n",
        "# Inicializa o geolocalizador\n",
        "geolocalizador = Nominatim(user_agent=\"my_application\")\n",
        "\n",
        "# Lista para armazenar as coordenadas das escolas\n",
        "coordenadas_escolas = []\n",
        "\n",
        "# Loop para obter as coordenadas de cada escola\n",
        "for escola in lista_escolas:\n",
        "    localizacao = f\"{escola}, {cidade}, {estado}\"\n",
        "    coordenadas = geolocalizador.geocode(localizacao)\n",
        "\n",
        "    if coordenadas:\n",
        "        coordenadas_escolas.append((escola, coordenadas.latitude, coordenadas.longitude))\n",
        "    else:\n",
        "        print(f\"Coordenadas não encontradas para {escola}\")\n",
        "\n",
        "# Exibindo as coordenadas obtidas\n",
        "for escola, latitude, longitude in coordenadas_escolas:\n",
        "    print(f\"{escola}: Latitude {latitude}, Longitude {longitude}\")\n"
      ],
      "metadata": {
        "colab": {
          "base_uri": "https://localhost:8080/"
        },
        "id": "87udkJaOCkFv",
        "outputId": "5379ed12-076b-4207-d69c-1da693c1b7a3"
      },
      "execution_count": 6,
      "outputs": [
        {
          "output_type": "stream",
          "name": "stdout",
          "text": [
            "Coordenadas não encontradas para EEEP PROFESSOR ONELIO PORTO\n",
            "Coordenadas não encontradas para EEEP PROFESSOR ONELIO PORTO\n",
            "Coordenadas não encontradas para EEFM DOUTOR UBIRAJARA INDIO DO CEARA\n",
            "Coordenadas não encontradas para EEFM PROFESSORA ADALGISA BONFIM SOARES\n",
            "Coordenadas não encontradas para EEFM SANTO AMARO\n",
            "Coordenadas não encontradas para EEFM SANTO AMARO\n",
            "Coordenadas não encontradas para EEM DEPUTADO JOACI PEREIRA\n",
            "Coordenadas não encontradas para EEM PROFESSOR JADER MOREIRA DE CARVALHO\n",
            "Coordenadas não encontradas para EEMTI CAIC MARIA ALVES CARIOCA\n",
            "Coordenadas não encontradas para EEMTI ESTADO DO AMAZONAS\n",
            "Coordenadas não encontradas para EEMTI IRMAO URBANO GONZALEZ RODRIGUEZ\n",
            "Coordenadas não encontradas para EEMTI LICEU PROFESSOR DOMINGOS BRASILEIRO\n",
            "Coordenadas não encontradas para EEMTI MARIA THOMASIA\n",
            "Coordenadas não encontradas para EEMTI MARIA THOMASIA\n",
            "Coordenadas não encontradas para EEMTI PROFESSOR CORONEL JOSE AURELIO CAMARA\n",
            "Coordenadas não encontradas para EEMTI PROFESSOR CORONEL JOSE AURELIO CAMARA\n",
            "Coordenadas não encontradas para EEMTI PROFESSOR JOSE MARIA CAMPOS DE OLIVEIRA\n",
            "Coordenadas não encontradas para EEMTI PROFESSORA MARIA MARGARIDA DE CASTRO ALMEIDA\n",
            "Coordenadas não encontradas para EEMTI SAO JOAO PIAMARTA\n",
            "Coordenadas não encontradas para EEMTI SENADOR FERNANDES TAVORA\n",
            "Coordenadas não encontradas para EEMTI SENADOR OSIRES PONTES\n",
            "Coordenadas não encontradas para EEMTI SENADOR OSIRES PONTES\n",
            "Coordenadas não encontradas para ERRATA\n",
            "Coordenadas não encontradas para ERRATA\n",
            "EEEP DARCY RIBEIRO: Latitude -3.8071565, Longitude -38.5938158\n",
            "EEEP LEONEL DE MOURA BRIZOLA: Latitude -3.80056905, Longitude -38.560514155269175\n",
            "EEEP PROFESSOR CESAR CAMPELO: Latitude -3.7700445, Longitude -38.61134795387596\n",
            "EEFM ANISIO TEIXEIRA: Latitude -3.754432, Longitude -38.56531096799774\n",
            "EEFM MICHELSON NOBRE DA SILVA: Latitude -3.7857661, Longitude -38.61809387591751\n",
            "EEFM PAULO ELPIDIO: Latitude -3.8049717, Longitude -38.6271332\n",
            "EEMTI JENNY GOMES: Latitude -3.76060775, Longitude -38.52113127337333\n",
            "EEMTI PRESIDENTE HUMBERTO DE ALENCAR CASTELO BRANCO: Latitude -3.76215925, Longitude -38.554400542453095\n"
          ]
        }
      ]
    },
    {
      "cell_type": "code",
      "source": [
        "\n",
        "# Criando um mapa centrado na cidade\n",
        "mapa = folium.Map(location=[-3.7327, -38.5277], zoom_start=12)\n",
        "#folium.TileLayer(\"cartodbpositron\").add_to(mapa)\n",
        "folium.TileLayer(\n",
        "    tiles = 'https://tile.openstreetmap.org/{z}/{x}/{y}.png',\n",
        "    attr = '&copy; <a href=\"https://www.openstreetmap.org/copyright\">OpenStreetMap</a> contributors',\n",
        "    name = \"OpenStreetMap.Mapnik\"\n",
        ").add_to(mapa)\n",
        "folium.LayerControl().add_to(mapa)\n",
        "\n",
        "# Adicionando marcadores para cada escola no mapa\n",
        "for escola, lat, lon in coordenadas_escolas:\n",
        "    folium.Marker([lat, lon], popup=escola, icon=folium.icon()).add_to(mapa)\n",
        "\n",
        "# Exibir o mapa\n",
        "mapa.save(\"mapa_escolas_sefor_03.html\")  # Salvar o mapa como um arquivo HTML\n",
        "mapa\n"
      ],
      "metadata": {
        "colab": {
          "base_uri": "https://localhost:8080/",
          "height": 922
        },
        "id": "0IO8rviLJmcU",
        "outputId": "5be05008-7926-4992-cd9f-c635273ec969"
      },
      "execution_count": 13,
      "outputs": [
        {
          "output_type": "execute_result",
          "data": {
            "text/plain": [
              "<folium.folium.Map at 0x7c6ff20b8220>"
            ],
            "text/html": [
              "<div style=\"width:100%;\"><div style=\"position:relative;width:100%;height:0;padding-bottom:60%;\"><span style=\"color:#565656\">Make this Notebook Trusted to load map: File -> Trust Notebook</span><iframe srcdoc=\"&lt;!DOCTYPE html&gt;\n",
              "&lt;html&gt;\n",
              "&lt;head&gt;\n",
              "    \n",
              "    &lt;meta http-equiv=&quot;content-type&quot; content=&quot;text/html; charset=UTF-8&quot; /&gt;\n",
              "    \n",
              "        &lt;script&gt;\n",
              "            L_NO_TOUCH = false;\n",
              "            L_DISABLE_3D = false;\n",
              "        &lt;/script&gt;\n",
              "    \n",
              "    &lt;style&gt;html, body {width: 100%;height: 100%;margin: 0;padding: 0;}&lt;/style&gt;\n",
              "    &lt;style&gt;#map {position:absolute;top:0;bottom:0;right:0;left:0;}&lt;/style&gt;\n",
              "    &lt;script src=&quot;https://cdn.jsdelivr.net/npm/leaflet@1.9.3/dist/leaflet.js&quot;&gt;&lt;/script&gt;\n",
              "    &lt;script src=&quot;https://code.jquery.com/jquery-1.12.4.min.js&quot;&gt;&lt;/script&gt;\n",
              "    &lt;script src=&quot;https://cdn.jsdelivr.net/npm/bootstrap@5.2.2/dist/js/bootstrap.bundle.min.js&quot;&gt;&lt;/script&gt;\n",
              "    &lt;script src=&quot;https://cdnjs.cloudflare.com/ajax/libs/Leaflet.awesome-markers/2.0.2/leaflet.awesome-markers.js&quot;&gt;&lt;/script&gt;\n",
              "    &lt;link rel=&quot;stylesheet&quot; href=&quot;https://cdn.jsdelivr.net/npm/leaflet@1.9.3/dist/leaflet.css&quot;/&gt;\n",
              "    &lt;link rel=&quot;stylesheet&quot; href=&quot;https://cdn.jsdelivr.net/npm/bootstrap@5.2.2/dist/css/bootstrap.min.css&quot;/&gt;\n",
              "    &lt;link rel=&quot;stylesheet&quot; href=&quot;https://netdna.bootstrapcdn.com/bootstrap/3.0.0/css/bootstrap.min.css&quot;/&gt;\n",
              "    &lt;link rel=&quot;stylesheet&quot; href=&quot;https://cdn.jsdelivr.net/npm/@fortawesome/fontawesome-free@6.2.0/css/all.min.css&quot;/&gt;\n",
              "    &lt;link rel=&quot;stylesheet&quot; href=&quot;https://cdnjs.cloudflare.com/ajax/libs/Leaflet.awesome-markers/2.0.2/leaflet.awesome-markers.css&quot;/&gt;\n",
              "    &lt;link rel=&quot;stylesheet&quot; href=&quot;https://cdn.jsdelivr.net/gh/python-visualization/folium/folium/templates/leaflet.awesome.rotate.min.css&quot;/&gt;\n",
              "    \n",
              "            &lt;meta name=&quot;viewport&quot; content=&quot;width=device-width,\n",
              "                initial-scale=1.0, maximum-scale=1.0, user-scalable=no&quot; /&gt;\n",
              "            &lt;style&gt;\n",
              "                #map_c77c00ff642c855b2f51bcd8bb039b4e {\n",
              "                    position: relative;\n",
              "                    width: 100.0%;\n",
              "                    height: 100.0%;\n",
              "                    left: 0.0%;\n",
              "                    top: 0.0%;\n",
              "                }\n",
              "                .leaflet-container { font-size: 1rem; }\n",
              "            &lt;/style&gt;\n",
              "        \n",
              "&lt;/head&gt;\n",
              "&lt;body&gt;\n",
              "    \n",
              "    \n",
              "            &lt;div class=&quot;folium-map&quot; id=&quot;map_c77c00ff642c855b2f51bcd8bb039b4e&quot; &gt;&lt;/div&gt;\n",
              "        \n",
              "&lt;/body&gt;\n",
              "&lt;script&gt;\n",
              "    \n",
              "    \n",
              "            var map_c77c00ff642c855b2f51bcd8bb039b4e = L.map(\n",
              "                &quot;map_c77c00ff642c855b2f51bcd8bb039b4e&quot;,\n",
              "                {\n",
              "                    center: [-3.7327, -38.5277],\n",
              "                    crs: L.CRS.EPSG3857,\n",
              "                    zoom: 12,\n",
              "                    zoomControl: true,\n",
              "                    preferCanvas: false,\n",
              "                }\n",
              "            );\n",
              "\n",
              "            \n",
              "\n",
              "        \n",
              "    \n",
              "            var tile_layer_5c4c230c2e5e08bc064eb3b19f5bcf49 = L.tileLayer(\n",
              "                &quot;https://{s}.tile.openstreetmap.org/{z}/{x}/{y}.png&quot;,\n",
              "                {&quot;attribution&quot;: &quot;Data by \\u0026copy; \\u003ca target=\\&quot;_blank\\&quot; href=\\&quot;http://openstreetmap.org\\&quot;\\u003eOpenStreetMap\\u003c/a\\u003e, under \\u003ca target=\\&quot;_blank\\&quot; href=\\&quot;http://www.openstreetmap.org/copyright\\&quot;\\u003eODbL\\u003c/a\\u003e.&quot;, &quot;detectRetina&quot;: false, &quot;maxNativeZoom&quot;: 18, &quot;maxZoom&quot;: 18, &quot;minZoom&quot;: 0, &quot;noWrap&quot;: false, &quot;opacity&quot;: 1, &quot;subdomains&quot;: &quot;abc&quot;, &quot;tms&quot;: false}\n",
              "            ).addTo(map_c77c00ff642c855b2f51bcd8bb039b4e);\n",
              "        \n",
              "    \n",
              "            var tile_layer_01d51aa62d14078591f893950cd5d64d = L.tileLayer(\n",
              "                &quot;https://tile.openstreetmap.org/{z}/{x}/{y}.png&quot;,\n",
              "                {&quot;attribution&quot;: &quot;\\u0026copy; \\u003ca href=\\&quot;https://www.openstreetmap.org/copyright\\&quot;\\u003eOpenStreetMap\\u003c/a\\u003e contributors&quot;, &quot;detectRetina&quot;: false, &quot;maxNativeZoom&quot;: 18, &quot;maxZoom&quot;: 18, &quot;minZoom&quot;: 0, &quot;noWrap&quot;: false, &quot;opacity&quot;: 1, &quot;subdomains&quot;: &quot;abc&quot;, &quot;tms&quot;: false}\n",
              "            ).addTo(map_c77c00ff642c855b2f51bcd8bb039b4e);\n",
              "        \n",
              "    \n",
              "            var layer_control_55d46c0498b8e04da34d67324bdcc3e5 = {\n",
              "                base_layers : {\n",
              "                    &quot;openstreetmap&quot; : tile_layer_5c4c230c2e5e08bc064eb3b19f5bcf49,\n",
              "                    &quot;OpenStreetMap.Mapnik&quot; : tile_layer_01d51aa62d14078591f893950cd5d64d,\n",
              "                },\n",
              "                overlays :  {\n",
              "                },\n",
              "            };\n",
              "            L.control.layers(\n",
              "                layer_control_55d46c0498b8e04da34d67324bdcc3e5.base_layers,\n",
              "                layer_control_55d46c0498b8e04da34d67324bdcc3e5.overlays,\n",
              "                {&quot;autoZIndex&quot;: true, &quot;collapsed&quot;: true, &quot;position&quot;: &quot;topright&quot;}\n",
              "            ).addTo(map_c77c00ff642c855b2f51bcd8bb039b4e);\n",
              "            tile_layer_01d51aa62d14078591f893950cd5d64d.remove();\n",
              "        \n",
              "    \n",
              "            var marker_0399c303ac6b880364f93853c04bfaa4 = L.marker(\n",
              "                [-3.8071565, -38.5938158],\n",
              "                {}\n",
              "            ).addTo(map_c77c00ff642c855b2f51bcd8bb039b4e);\n",
              "        \n",
              "    \n",
              "        var popup_154e6347a48c9d1f52e0b5857aa16346 = L.popup({&quot;maxWidth&quot;: &quot;100%&quot;});\n",
              "\n",
              "        \n",
              "            \n",
              "                var html_296347402c1e599ea0ac38088be18bad = $(`&lt;div id=&quot;html_296347402c1e599ea0ac38088be18bad&quot; style=&quot;width: 100.0%; height: 100.0%;&quot;&gt;EEEP DARCY RIBEIRO&lt;/div&gt;`)[0];\n",
              "                popup_154e6347a48c9d1f52e0b5857aa16346.setContent(html_296347402c1e599ea0ac38088be18bad);\n",
              "            \n",
              "        \n",
              "\n",
              "        marker_0399c303ac6b880364f93853c04bfaa4.bindPopup(popup_154e6347a48c9d1f52e0b5857aa16346)\n",
              "        ;\n",
              "\n",
              "        \n",
              "    \n",
              "    \n",
              "            var marker_acef55e5adce62e7b172d86979baa2ae = L.marker(\n",
              "                [-3.80056905, -38.560514155269175],\n",
              "                {}\n",
              "            ).addTo(map_c77c00ff642c855b2f51bcd8bb039b4e);\n",
              "        \n",
              "    \n",
              "        var popup_77b3f35a6b06c520c0f60dfe814747c8 = L.popup({&quot;maxWidth&quot;: &quot;100%&quot;});\n",
              "\n",
              "        \n",
              "            \n",
              "                var html_3a639948b251b49dacf444dc6fcb8ded = $(`&lt;div id=&quot;html_3a639948b251b49dacf444dc6fcb8ded&quot; style=&quot;width: 100.0%; height: 100.0%;&quot;&gt;EEEP LEONEL DE MOURA BRIZOLA&lt;/div&gt;`)[0];\n",
              "                popup_77b3f35a6b06c520c0f60dfe814747c8.setContent(html_3a639948b251b49dacf444dc6fcb8ded);\n",
              "            \n",
              "        \n",
              "\n",
              "        marker_acef55e5adce62e7b172d86979baa2ae.bindPopup(popup_77b3f35a6b06c520c0f60dfe814747c8)\n",
              "        ;\n",
              "\n",
              "        \n",
              "    \n",
              "    \n",
              "            var marker_07a9fe5fc3476838d3a95c17cd7f6742 = L.marker(\n",
              "                [-3.7700445, -38.61134795387596],\n",
              "                {}\n",
              "            ).addTo(map_c77c00ff642c855b2f51bcd8bb039b4e);\n",
              "        \n",
              "    \n",
              "        var popup_88582d768c15f41e1b4d9c14702dc987 = L.popup({&quot;maxWidth&quot;: &quot;100%&quot;});\n",
              "\n",
              "        \n",
              "            \n",
              "                var html_0b74f3fc1cb80a27b0c5cee5ca28af07 = $(`&lt;div id=&quot;html_0b74f3fc1cb80a27b0c5cee5ca28af07&quot; style=&quot;width: 100.0%; height: 100.0%;&quot;&gt;EEEP PROFESSOR CESAR CAMPELO&lt;/div&gt;`)[0];\n",
              "                popup_88582d768c15f41e1b4d9c14702dc987.setContent(html_0b74f3fc1cb80a27b0c5cee5ca28af07);\n",
              "            \n",
              "        \n",
              "\n",
              "        marker_07a9fe5fc3476838d3a95c17cd7f6742.bindPopup(popup_88582d768c15f41e1b4d9c14702dc987)\n",
              "        ;\n",
              "\n",
              "        \n",
              "    \n",
              "    \n",
              "            var marker_d8c601593f76db212e622f128c82d10f = L.marker(\n",
              "                [-3.754432, -38.56531096799774],\n",
              "                {}\n",
              "            ).addTo(map_c77c00ff642c855b2f51bcd8bb039b4e);\n",
              "        \n",
              "    \n",
              "        var popup_419d1b5c6bbe0b147af00a85d652b069 = L.popup({&quot;maxWidth&quot;: &quot;100%&quot;});\n",
              "\n",
              "        \n",
              "            \n",
              "                var html_8215e6a36215537f4f72f5d88ef6c24f = $(`&lt;div id=&quot;html_8215e6a36215537f4f72f5d88ef6c24f&quot; style=&quot;width: 100.0%; height: 100.0%;&quot;&gt;EEFM ANISIO TEIXEIRA&lt;/div&gt;`)[0];\n",
              "                popup_419d1b5c6bbe0b147af00a85d652b069.setContent(html_8215e6a36215537f4f72f5d88ef6c24f);\n",
              "            \n",
              "        \n",
              "\n",
              "        marker_d8c601593f76db212e622f128c82d10f.bindPopup(popup_419d1b5c6bbe0b147af00a85d652b069)\n",
              "        ;\n",
              "\n",
              "        \n",
              "    \n",
              "    \n",
              "            var marker_4e4b100f5e8a978b843a5e922d9e5027 = L.marker(\n",
              "                [-3.7857661, -38.61809387591751],\n",
              "                {}\n",
              "            ).addTo(map_c77c00ff642c855b2f51bcd8bb039b4e);\n",
              "        \n",
              "    \n",
              "        var popup_93e38b5ba95fdaa6564ed2cf40df5fce = L.popup({&quot;maxWidth&quot;: &quot;100%&quot;});\n",
              "\n",
              "        \n",
              "            \n",
              "                var html_8a2e5a35fbe06fbf9a910334ac01bdd1 = $(`&lt;div id=&quot;html_8a2e5a35fbe06fbf9a910334ac01bdd1&quot; style=&quot;width: 100.0%; height: 100.0%;&quot;&gt;EEFM MICHELSON NOBRE DA SILVA&lt;/div&gt;`)[0];\n",
              "                popup_93e38b5ba95fdaa6564ed2cf40df5fce.setContent(html_8a2e5a35fbe06fbf9a910334ac01bdd1);\n",
              "            \n",
              "        \n",
              "\n",
              "        marker_4e4b100f5e8a978b843a5e922d9e5027.bindPopup(popup_93e38b5ba95fdaa6564ed2cf40df5fce)\n",
              "        ;\n",
              "\n",
              "        \n",
              "    \n",
              "    \n",
              "            var marker_602437c22f2a3b6ce552ee924da2f0e2 = L.marker(\n",
              "                [-3.8049717, -38.6271332],\n",
              "                {}\n",
              "            ).addTo(map_c77c00ff642c855b2f51bcd8bb039b4e);\n",
              "        \n",
              "    \n",
              "        var popup_3b0ef06a9739303309a2d8b2dbaa95c7 = L.popup({&quot;maxWidth&quot;: &quot;100%&quot;});\n",
              "\n",
              "        \n",
              "            \n",
              "                var html_4b04ac1f255c99af5e283c928c40b28e = $(`&lt;div id=&quot;html_4b04ac1f255c99af5e283c928c40b28e&quot; style=&quot;width: 100.0%; height: 100.0%;&quot;&gt;EEFM PAULO ELPIDIO&lt;/div&gt;`)[0];\n",
              "                popup_3b0ef06a9739303309a2d8b2dbaa95c7.setContent(html_4b04ac1f255c99af5e283c928c40b28e);\n",
              "            \n",
              "        \n",
              "\n",
              "        marker_602437c22f2a3b6ce552ee924da2f0e2.bindPopup(popup_3b0ef06a9739303309a2d8b2dbaa95c7)\n",
              "        ;\n",
              "\n",
              "        \n",
              "    \n",
              "    \n",
              "            var marker_4203e3c28a9471fd377a89678a91cbc1 = L.marker(\n",
              "                [-3.76060775, -38.52113127337333],\n",
              "                {}\n",
              "            ).addTo(map_c77c00ff642c855b2f51bcd8bb039b4e);\n",
              "        \n",
              "    \n",
              "        var popup_1bc3c0e50f5e25b7a80c08157f312f14 = L.popup({&quot;maxWidth&quot;: &quot;100%&quot;});\n",
              "\n",
              "        \n",
              "            \n",
              "                var html_23ea5e0b5385c36be728333b974197dc = $(`&lt;div id=&quot;html_23ea5e0b5385c36be728333b974197dc&quot; style=&quot;width: 100.0%; height: 100.0%;&quot;&gt;EEMTI JENNY GOMES&lt;/div&gt;`)[0];\n",
              "                popup_1bc3c0e50f5e25b7a80c08157f312f14.setContent(html_23ea5e0b5385c36be728333b974197dc);\n",
              "            \n",
              "        \n",
              "\n",
              "        marker_4203e3c28a9471fd377a89678a91cbc1.bindPopup(popup_1bc3c0e50f5e25b7a80c08157f312f14)\n",
              "        ;\n",
              "\n",
              "        \n",
              "    \n",
              "    \n",
              "            var marker_b3916b38e0d042e3a1e4a848211f1e47 = L.marker(\n",
              "                [-3.76215925, -38.554400542453095],\n",
              "                {}\n",
              "            ).addTo(map_c77c00ff642c855b2f51bcd8bb039b4e);\n",
              "        \n",
              "    \n",
              "        var popup_8c174cf71b0f16293d7a13feb4d403ae = L.popup({&quot;maxWidth&quot;: &quot;100%&quot;});\n",
              "\n",
              "        \n",
              "            \n",
              "                var html_bf2bf80a1a91ca959ae87cb6ad92d00c = $(`&lt;div id=&quot;html_bf2bf80a1a91ca959ae87cb6ad92d00c&quot; style=&quot;width: 100.0%; height: 100.0%;&quot;&gt;EEMTI PRESIDENTE HUMBERTO DE ALENCAR CASTELO BRANCO&lt;/div&gt;`)[0];\n",
              "                popup_8c174cf71b0f16293d7a13feb4d403ae.setContent(html_bf2bf80a1a91ca959ae87cb6ad92d00c);\n",
              "            \n",
              "        \n",
              "\n",
              "        marker_b3916b38e0d042e3a1e4a848211f1e47.bindPopup(popup_8c174cf71b0f16293d7a13feb4d403ae)\n",
              "        ;\n",
              "\n",
              "        \n",
              "    \n",
              "&lt;/script&gt;\n",
              "&lt;/html&gt;\" style=\"position:absolute;width:100%;height:100%;left:0;top:0;border:none !important;\" allowfullscreen webkitallowfullscreen mozallowfullscreen></iframe></div></div>"
            ]
          },
          "metadata": {},
          "execution_count": 13
        }
      ]
    }
  ]
}